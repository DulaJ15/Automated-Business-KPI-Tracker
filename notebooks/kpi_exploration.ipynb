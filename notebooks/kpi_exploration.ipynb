# Automated KPI Tracker - Exploratory Notebook

import pandas as pd
import matplotlib.pyplot as plt
from utils.kpi_calculations import calculate_basic_kpis, detect_anomalies
import seaborn as sns

# Load sample data
df = pd.read_excel("../data/sample_kpi_data.xlsx")

# Initial data overview
print("Raw Data Head:")
print(df.head())

# Calculate KPIs
df_kpi = calculate_basic_kpis(df)

# Check KPI trends
plt.figure(figsize=(12,6))
plt.plot(df_kpi['Date'], df_kpi['Revenue'], label='Revenue')
plt.plot(df_kpi['Date'], df_kpi['Orders'], label='Orders')
plt.title("Revenue & Orders Over Time")
plt.legend()
plt.show()

# Anomaly detection for Revenue Growth %
df_kpi = detect_anomalies(df_kpi, 'Revenue Growth %')
print(f"Detected anomalies:\n{df_kpi[df_kpi['Anomaly']]}")

# Visualize anomalies on Revenue Growth %
plt.figure(figsize=(12,6))
sns.scatterplot(data=df_kpi, x='Date', y='Revenue Growth %', hue='Anomaly', palette={True:'red', False:'blue'})
plt.title("Revenue Growth % with Anomalies Highlighted")
plt.axhline(y=0, linestyle='--', color='grey')
plt.show()

# KPI distributions
plt.figure(figsize=(12,6))
sns.histplot(df_kpi['Avg Order Size'], kde=True)
plt.title("Distribution of Average Order Size")
plt.show()
