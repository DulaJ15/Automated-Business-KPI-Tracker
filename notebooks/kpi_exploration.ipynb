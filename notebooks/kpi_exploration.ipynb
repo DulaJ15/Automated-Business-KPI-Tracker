{
 "cells": [
  {
   "cell_type": "code",
   "execution_count": null,
   "id": "a1d3f98c",
   "metadata": {},
   "outputs": [],
   "source": [
    "import pandas as pd\n",
    "import matplotlib.pyplot as plt\n",
    "import sys\n",
    "import os\n",
    "try:\n",
    "    # Try to add the project root dynamically (recommended)\n",
    "    sys.path.insert(0, os.path.abspath(os.path.join(os.path.dirname(__file__), '..')))\n",
    "except Exception:\n",
    "    # Fallback: replace with your absolute path if needed\n",
    "    # sys.path.insert(0, r\"YOUR_LOCAL_PATH_HERE\")\n",
    "    pass\n",
    "from utils.kpi_calculations import calculate_basic_kpis, detect_anomalies\n",
    "import seaborn as sns\n",
    "\n",
    "# Load sample data\n",
    "df = pd.read_excel(\"../data/sample_kpi_data.xlsx\")\n",
    "\n",
    "# Initial data overview\n",
    "print(\"Raw Data Head:\")\n",
    "print(df.head())\n",
    "\n",
    "# Calculate KPIs\n",
    "df_kpi = calculate_basic_kpis(df)\n",
    "\n",
    "# Check KPI trends\n",
    "plt.figure(figsize=(12,6))\n",
    "plt.plot(df_kpi['Date'], df_kpi['Revenue'], label='Revenue')\n",
    "plt.plot(df_kpi['Date'], df_kpi['Orders'], label='Orders')\n",
    "plt.title(\"Revenue & Orders Over Time\")\n",
    "plt.legend()\n",
    "plt.show()\n",
    "\n",
    "# Anomaly detection for Revenue Growth %\n",
    "df_kpi = detect_anomalies(df_kpi, 'Revenue Growth %')\n",
    "print(f\"Detected anomalies:\\n{df_kpi[df_kpi['Anomaly']]}\" )\n",
    "\n",
    "# Visualize anomalies on Revenue Growth %\n",
    "plt.figure(figsize=(12,6))\n",
    "sns.scatterplot(data=df_kpi, x='Date', y='Revenue Growth %', hue='Anomaly', palette={True:'red', False:'blue'})\n",
    "plt.title(\"Revenue Growth % with Anomalies Highlighted\")\n",
    "plt.axhline(y=0, linestyle='--', color='grey')\n",
    "plt.show()\n",
    "\n",
    "# KPI distributions\n",
    "plt.figure(figsize=(12,6))\n",
    "sns.histplot(df_kpi['Avg Order Size'], kde=True)\n",
    "plt.title(\"Distribution of Average Order Size\")\n",
    "plt.show()"
   ]
  }
 ],
 "metadata": {
  "kernelspec": {
   "display_name": "Python 3",
   "language": "python",
   "name": "python3"
  },
  "language_info": {
   "codemirror_mode": {
    "name": "ipython",
    "version": 3
   },
   "file_extension": ".py",
   "mimetype": "text/x-python",
   "name": "python",
   "nbconvert_exporter": "python",
   "pygments_lexer": "ipython3",
   "version": "3.10.4"
  }
 },
 "nbformat": 4,
 "nbformat_minor": 5
}
